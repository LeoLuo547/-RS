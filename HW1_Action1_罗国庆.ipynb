{
 "cells": [
  {
   "cell_type": "code",
   "execution_count": 1,
   "metadata": {},
   "outputs": [],
   "source": [
    "#罗国庆 Action 1: Cart \n",
    "from sklearn.model_selection import train_test_split\n",
    "from sklearn import preprocessing\n",
    "from sklearn.metrics import accuracy_score\n",
    "from sklearn.datasets import load_digits\n",
    "from sklearn.tree import DecisionTreeClassifier\n",
    "import matplotlib.pyplot as plt\n",
    "import numpy as np"
   ]
  },
  {
   "cell_type": "code",
   "execution_count": 3,
   "metadata": {},
   "outputs": [],
   "source": [
    "# 加载数据\n",
    "mnist=np.load('mnist.npz')\n",
    "x_train, y_train = mnist['x_train'], mnist['y_train']\n",
    "x_test, y_test = mnist['x_test'], mnist['y_test']\n",
    "mnist.close()"
   ]
  },
  {
   "cell_type": "code",
   "execution_count": 5,
   "metadata": {},
   "outputs": [
    {
     "name": "stdout",
     "output_type": "stream",
     "text": [
      "(60000, 784)\n",
      "(60000,)\n",
      "(10000, 784)\n",
      "(10000,)\n"
     ]
    }
   ],
   "source": [
    "# 转换数据格式&数据探索\n",
    "train_x=x_train.reshape(60000,-1)\n",
    "print(train_x.shape)\n",
    "test_x=x_test.reshape(10000,-1)\n",
    "train_y=y_train\n",
    "test_y=y_test\n",
    "print(train_y.shape)\n",
    "print(test_x.shape)\n",
    "print(test_y.shape)"
   ]
  },
  {
   "cell_type": "code",
   "execution_count": 14,
   "metadata": {},
   "outputs": [],
   "source": [
    "# 加载数据\n",
    "# digits = load_digits()\n",
    "# data = digits.data\n",
    "# 数据探索\n",
    "#print(train_X.shape)\n",
    "# 查看第一幅图像\n",
    "#print(digits.images[0])\n",
    "# 第一幅图像代表的数字含义\n",
    "#print(digits.target[0])\n",
    "# 将第一幅图像显示出来\n",
    "#plt.gray()\n",
    "#plt.title('Handwritten Digits')\n",
    "#plt.imshow(digits.images[0])\n",
    "#plt.show()"
   ]
  },
  {
   "cell_type": "code",
   "execution_count": 15,
   "metadata": {},
   "outputs": [],
   "source": [
    "# 分割数据，将25%的数据作为测试集，其余作为训练集\n",
    "#train_x, test_x, train_y, test_y = train_test_split(data, digits.target, test_size=0.25, random_state=33)\n",
    "\n",
    "# 采用Z-Score规范化\n",
    "ss = preprocessing.StandardScaler()\n",
    "train_ss_x = ss.fit_transform(train_x) # 为什么是fit_transform\n",
    "test_ss_x = ss.transform(test_x) #为什么是transform"
   ]
  },
  {
   "cell_type": "code",
   "execution_count": 16,
   "metadata": {},
   "outputs": [
    {
     "name": "stdout",
     "output_type": "stream",
     "text": [
      "CART决策树准确率: 0.8777\n"
     ]
    }
   ],
   "source": [
    "# 创建线性 CART决策树分类器\n",
    "model = DecisionTreeClassifier()\n",
    "model.fit(train_ss_x,train_y)\n",
    "predict_y=model.predict(test_ss_x)\n",
    "print('CART决策树准确率: %0.4lf' %accuracy_score(predict_y,test_y))\n"
   ]
  },
  {
   "cell_type": "code",
   "execution_count": null,
   "metadata": {},
   "outputs": [],
   "source": []
  }
 ],
 "metadata": {
  "kernelspec": {
   "display_name": "Python 3",
   "language": "python",
   "name": "python3"
  },
  "language_info": {
   "codemirror_mode": {
    "name": "ipython",
    "version": 3
   },
   "file_extension": ".py",
   "mimetype": "text/x-python",
   "name": "python",
   "nbconvert_exporter": "python",
   "pygments_lexer": "ipython3",
   "version": "3.7.4"
  }
 },
 "nbformat": 4,
 "nbformat_minor": 2
}
