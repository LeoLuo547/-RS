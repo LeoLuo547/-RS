{
 "cells": [
  {
   "cell_type": "code",
   "execution_count": 5,
   "metadata": {},
   "outputs": [],
   "source": [
    "import numpy as np\n",
    "import pandas as pd\n",
    "data = pd.read_csv('./train.csv')\n",
    "# print('查看数据信息：列名、非空个数、类型等')\n",
    "# print(data.info())\n",
    "# print('-'*30)\n",
    "# print('查看数据摘要')\n",
    "# print(data.describe())\n",
    "# print('-'*30)\n",
    "# print('查看离散数据分布')\n",
    "# print(data.describe())\n",
    "train_data=data.sample(frac=1)\n",
    "# print(\"Sample info:\")\n",
    "# print(train_data.info())"
   ]
  },
  {
   "cell_type": "code",
   "execution_count": 17,
   "metadata": {},
   "outputs": [
    {
     "name": "stdout",
     "output_type": "stream",
     "text": [
      "             id    target\n",
      "0             0  0.024865\n",
      "1             1  0.025896\n",
      "2             2  0.034001\n",
      "3             3  0.020190\n",
      "4             4  0.034001\n",
      "...         ...       ...\n",
      "892811  1488022  0.061072\n",
      "892812  1488023  0.044780\n",
      "892813  1488024  0.030664\n",
      "892814  1488025  0.028388\n",
      "892815  1488026  0.025085\n",
      "\n",
      "[892816 rows x 2 columns]\n"
     ]
    }
   ],
   "source": [
    "import matplotlib.pyplot as plt\n",
    "from sklearn.datasets import make_classification\n",
    "from sklearn.linear_model import LogisticRegression\n",
    "from sklearn.ensemble import RandomTreesEmbedding, RandomForestClassifier, GradientBoostingClassifier, GradientBoostingRegressor\n",
    "from sklearn.preprocessing import OneHotEncoder\n",
    "from sklearn.model_selection import train_test_split\n",
    "from sklearn.metrics import roc_curve\n",
    "from sklearn.pipeline import make_pipeline\n",
    "\n",
    "X=train_data.drop(['id','target'],axis=1)\n",
    "y=train_data['target']\n",
    "\n",
    "n_estimator = 10\n",
    "# 生成样本集\n",
    "#print(X)\n",
    "# 将样本集分成测试集和训练集\n",
    "X_train, X_test, y_train, y_test = train_test_split(X, y, test_size=0.5)\n",
    "X_train, X_train_lr, y_train, y_train_lr = train_test_split(X_train, y_train, test_size=0.5)\n",
    "\n",
    "# 基于GBDT监督变换\n",
    "grd = GradientBoostingClassifier(n_estimators=n_estimator)\n",
    "grd.fit(X_train, y_train)\n",
    "# 得到OneHot编码\n",
    "grd_enc = OneHotEncoder(categories='auto')\n",
    "temp = grd.apply(X_train)\n",
    "np.set_printoptions(threshold=np.inf)  \n",
    "grd_enc.fit(grd.apply(X_train)[:, :, 0])\n",
    "#print(grd_enc.get_feature_names()) # 查看每一列对应的特征\n",
    "# 使用OneHot编码作为特征，训练LR\n",
    "grd_lm = LogisticRegression(solver='lbfgs', max_iter=1000)\n",
    "grd_lm.fit(grd_enc.transform(grd.apply(X_train_lr)[:, :, 0]), y_train_lr)\n",
    "# # 使用LR进行预测\n",
    "test_data = pd.read_csv('./test.csv')\n",
    "test_entry = test_data.drop(['id'],axis=1)\n",
    "y_pred_grd_lm = grd_lm.predict_proba(grd_enc.transform(grd.apply(test_entry)[:, :, 0]))[:, 1]\n",
    "# y_pred_grd_lm[y_pred_grd_lm<0.5]=0\n",
    "# y_pred_grd_lm[y_pred_grd_lm>=0.5]=1\n",
    "ans={'id': test_data['id'],'target':y_pred_grd_lm}\n",
    "ans=DataFrame(ans)\n",
    "print(ans)"
   ]
  },
  {
   "cell_type": "code",
   "execution_count": null,
   "metadata": {},
   "outputs": [],
   "source": []
  }
 ],
 "metadata": {
  "kernelspec": {
   "display_name": "Python 3",
   "language": "python",
   "name": "python3"
  },
  "language_info": {
   "codemirror_mode": {
    "name": "ipython",
    "version": 3
   },
   "file_extension": ".py",
   "mimetype": "text/x-python",
   "name": "python",
   "nbconvert_exporter": "python",
   "pygments_lexer": "ipython3",
   "version": "3.7.4"
  }
 },
 "nbformat": 4,
 "nbformat_minor": 2
}
