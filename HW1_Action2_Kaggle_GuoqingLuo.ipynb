{
 "cells": [
  {
   "cell_type": "code",
   "execution_count": 1,
   "metadata": {},
   "outputs": [
    {
     "name": "stdout",
     "output_type": "stream",
     "text": [
      "查看数据信息：列名、非空个数、类型等\n",
      "<class 'pandas.core.frame.DataFrame'>\n",
      "RangeIndex: 1176 entries, 0 to 1175\n",
      "Data columns (total 36 columns):\n",
      "user_id                     1176 non-null int64\n",
      "Age                         1176 non-null int64\n",
      "Attrition                   1176 non-null object\n",
      "BusinessTravel              1176 non-null object\n",
      "DailyRate                   1176 non-null int64\n",
      "Department                  1176 non-null object\n",
      "DistanceFromHome            1176 non-null int64\n",
      "Education                   1176 non-null int64\n",
      "EducationField              1176 non-null object\n",
      "EmployeeCount               1176 non-null int64\n",
      "EmployeeNumber              1176 non-null int64\n",
      "EnvironmentSatisfaction     1176 non-null int64\n",
      "Gender                      1176 non-null object\n",
      "HourlyRate                  1176 non-null int64\n",
      "JobInvolvement              1176 non-null int64\n",
      "JobLevel                    1176 non-null int64\n",
      "JobRole                     1176 non-null object\n",
      "JobSatisfaction             1176 non-null int64\n",
      "MaritalStatus               1176 non-null object\n",
      "MonthlyIncome               1176 non-null int64\n",
      "MonthlyRate                 1176 non-null int64\n",
      "NumCompaniesWorked          1176 non-null int64\n",
      "Over18                      1176 non-null object\n",
      "OverTime                    1176 non-null object\n",
      "PercentSalaryHike           1176 non-null int64\n",
      "PerformanceRating           1176 non-null int64\n",
      "RelationshipSatisfaction    1176 non-null int64\n",
      "StandardHours               1176 non-null int64\n",
      "StockOptionLevel            1176 non-null int64\n",
      "TotalWorkingYears           1176 non-null int64\n",
      "TrainingTimesLastYear       1176 non-null int64\n",
      "WorkLifeBalance             1176 non-null int64\n",
      "YearsAtCompany              1176 non-null int64\n",
      "YearsInCurrentRole          1176 non-null int64\n",
      "YearsSinceLastPromotion     1176 non-null int64\n",
      "YearsWithCurrManager        1176 non-null int64\n",
      "dtypes: int64(27), object(9)\n",
      "memory usage: 330.9+ KB\n",
      "None\n"
     ]
    },
    {
     "name": "stderr",
     "output_type": "stream",
     "text": [
      "/opt/anaconda3/lib/python3.7/site-packages/ipykernel_launcher.py:21: SettingWithCopyWarning: \n",
      "A value is trying to be set on a copy of a slice from a DataFrame\n",
      "\n",
      "See the caveats in the documentation: http://pandas.pydata.org/pandas-docs/stable/user_guide/indexing.html#returning-a-view-versus-a-copy\n",
      "/opt/anaconda3/lib/python3.7/site-packages/ipykernel_launcher.py:22: SettingWithCopyWarning: \n",
      "A value is trying to be set on a copy of a slice from a DataFrame\n",
      "\n",
      "See the caveats in the documentation: http://pandas.pydata.org/pandas-docs/stable/user_guide/indexing.html#returning-a-view-versus-a-copy\n"
     ]
    }
   ],
   "source": [
    "import pandas as pd\n",
    "\n",
    "#数据加载\n",
    "train_data = pd.read_csv('./train.csv')\n",
    "test_data = pd.read_csv('./test.csv')\n",
    "print('查看数据信息：列名、非空个数、类型等')\n",
    "print(train_data.info())\n",
    "# print('-'*30)\n",
    "# print('查看数据摘要')\n",
    "# print(train_data.describe())\n",
    "# print('-'*30)\n",
    "# print('查看离散数据分布')\n",
    "# print(train_data.describe(include=['O']))\n",
    "# print('-'*30)\n",
    "# print('查看前5条数据')\n",
    "# print(train_data.head())\n",
    "# print('-'*30)\n",
    "# print('查看后5条数据')\n",
    "# print(train_data.tail())\n",
    "\n",
    "train_data.Attrition[train_data['Attrition'] == 'Yes'] = 1.0\n",
    "train_data.Attrition[train_data['Attrition'] == 'No'] = 0.0\n",
    "# print(train_data.head())\n",
    "\n",
    "# 数据处理\n",
    "# train_data.loc[train_data['Attrition'] == 'Yes'] = 1\n",
    "# train_data.loc[train_data['Attrition'] == 'No'] = 0\n",
    "# 特征选择\n",
    "features = ['Age', 'BusinessTravel', 'DailyRate', 'Department', 'DistanceFromHome',\n",
    "            'Education', 'EducationField','EnvironmentSatisfaction','Gender',\n",
    "           'JobInvolvement','JobLevel','JobRole','JobSatisfaction','MaritalStatus',\n",
    "           'MonthlyIncome','NumCompaniesWorked','Over18','OverTime','PercentSalaryHike',\n",
    "           'PerformanceRating','RelationshipSatisfaction','StandardHours','StockOptionLevel',\n",
    "           'TotalWorkingYears','TrainingTimesLastYear','WorkLifeBalance','YearsAtCompany',\n",
    "            'YearsInCurrentRole','YearsSinceLastPromotion','YearsWithCurrManager']\n",
    "train_features = train_data[features] ####读取多行\n",
    "train_labels = train_data['Attrition']\n",
    "test_features = test_data[features]\n",
    "# print('特征值')\n",
    "# print(train_features)\n",
    "\n",
    "from sklearn.tree import DecisionTreeClassifier\n",
    "from sklearn.feature_extraction import DictVectorizer\n",
    "from sklearn.model_selection import cross_val_score\n",
    "from sklearn import metrics\n",
    "from sklearn.feature_extraction import DictVectorizer\n",
    "from tpot import TPOTClassifier\n",
    "from sklearn.model_selection import train_test_split\n",
    "dvec=DictVectorizer(sparse=False) ###sparse=False意思是不产生稀疏矩阵\n",
    "## 转化为0，1向量\n",
    "train_features=dvec.fit_transform(train_features.to_dict(orient='record'))\n",
    "test_features=dvec.fit_transform(test_features.to_dict(orient='record'))\n",
    "# print(dvec.feature_names_)\n",
    "x_train, x_test, y_train, y_test = train_test_split(train_features, train_labels, train_size=0.75, test_size=0.25)\n",
    "tpot = TPOTClassifier(verbosity=2, max_time_mins=2, max_eval_time_mins=0.04, population_size=40)"
   ]
  },
  {
   "cell_type": "code",
   "execution_count": 2,
   "metadata": {},
   "outputs": [
    {
     "name": "stdout",
     "output_type": "stream",
     "text": [
      "Warning: xgboost.XGBClassifier is not available and will not be used by TPOT.\n"
     ]
    },
    {
     "data": {
      "application/vnd.jupyter.widget-view+json": {
       "model_id": "a47cdd19dcf0440e880a225d68d5e99d",
       "version_major": 2,
       "version_minor": 0
      },
      "text/plain": [
       "HBox(children=(IntProgress(value=0, description='Optimization Progress', max=40, style=ProgressStyle(descripti…"
      ]
     },
     "metadata": {},
     "output_type": "display_data"
    },
    {
     "name": "stdout",
     "output_type": "stream",
     "text": [
      "Generation 1 - Current best internal CV score: 0.8798086800205445\n",
      "Generation 2 - Current best internal CV score: 0.8798086800205445\n",
      "Generation 3 - Current best internal CV score: 0.8843477144324602\n",
      "\n",
      "2.02 minutes have elapsed. TPOT will close down.\n",
      "TPOT closed during evaluation in one generation.\n",
      "WARNING: TPOT may not provide a good pipeline if TPOT is stopped/interrupted in a early generation.\n",
      "\n",
      "\n",
      "TPOT closed prematurely. Will use the current best pipeline.\n",
      "\n",
      "Best pipeline: GradientBoostingClassifier(input_matrix, learning_rate=0.1, max_depth=6, max_features=0.2, min_samples_leaf=19, min_samples_split=11, n_estimators=100, subsample=0.35000000000000003)\n",
      "     user_id  Attrition\n",
      "0        442        0.0\n",
      "1       1091        0.0\n",
      "2        981        0.0\n",
      "3        785        0.0\n",
      "4       1332        1.0\n",
      "..       ...        ...\n",
      "289     1439        0.0\n",
      "290      481        0.0\n",
      "291      124        0.0\n",
      "292      198        0.0\n",
      "293     1229        0.0\n",
      "\n",
      "[294 rows x 2 columns]\n"
     ]
    }
   ],
   "source": [
    "tpot.fit(x_train, y_train.astype(pd.np.float))\n",
    "tpot.score(x_test, y_test)\n",
    "tpot.export('tpot_mnist_pipeline.py')\n",
    "Result=tpot.predict(test_features)\n",
    "final = pd.DataFrame({'user_id': test_data['user_id'], 'Attrition': Result})\n",
    "print(final)\n",
    "final.to_csv('submission1.csv', index=False);"
   ]
  },
  {
   "cell_type": "code",
   "execution_count": 13,
   "metadata": {},
   "outputs": [],
   "source": []
  },
  {
   "cell_type": "code",
   "execution_count": 14,
   "metadata": {},
   "outputs": [
    {
     "name": "stdout",
     "output_type": "stream",
     "text": [
      "[0. 0. 0. 0. 1. 0. 1. 0. 0. 0. 0. 0. 0. 1. 0. 0. 0. 0. 0. 0. 0. 0. 0. 0.\n",
      " 1. 0. 0. 0. 1. 0. 0. 0. 0. 0. 0. 0. 0. 0. 0. 0. 0. 0. 0. 0. 0. 1. 0. 0.\n",
      " 1. 0. 0. 1. 0. 0. 0. 0. 0. 0. 0. 0. 0. 0. 0. 0. 0. 0. 0. 0. 0. 0. 0. 0.\n",
      " 0. 0. 0. 0. 0. 0. 0. 0. 0. 0. 0. 0. 0. 0. 0. 0. 0. 0. 0. 0. 0. 0. 0. 0.\n",
      " 0. 0. 0. 0. 0. 0. 1. 0. 0. 0. 0. 0. 0. 0. 0. 0. 0. 0. 0. 0. 0. 0. 0. 0.\n",
      " 0. 0. 0. 1. 0. 0. 0. 0. 0. 0. 0. 0. 0. 0. 0. 0. 0. 0. 0. 0. 0. 0. 0. 0.\n",
      " 0. 0. 0. 0. 0. 0. 0. 0. 0. 0. 0. 0. 0. 0. 0. 0. 0. 0. 0. 1. 0. 0. 0. 0.\n",
      " 0. 0. 0. 0. 0. 0. 0. 0. 0. 0. 0. 0. 0. 0. 0. 1. 0. 0. 1. 0. 0. 0. 0. 1.\n",
      " 0. 0. 0. 0. 0. 0. 0. 0. 0. 0. 0. 0. 0. 0. 0. 0. 0. 0. 0. 0. 0. 0. 0. 0.\n",
      " 0. 0. 0. 0. 0. 0. 0. 0. 0. 0. 0. 0. 1. 0. 0. 0. 0. 0. 0. 0. 0. 0. 0. 0.\n",
      " 0. 0. 0. 0. 0. 0. 0. 0. 0. 0. 0. 0. 1. 0. 0. 0. 0. 1. 0. 1. 0. 0. 0. 0.\n",
      " 0. 0. 0. 0. 0. 0. 0. 0. 0. 0. 0. 0. 0. 0. 0. 0. 1. 0. 0. 0. 0. 0. 0. 0.\n",
      " 0. 0. 0. 0. 0. 0.]\n"
     ]
    }
   ],
   "source": [
    "print(Result)"
   ]
  },
  {
   "cell_type": "code",
   "execution_count": 15,
   "metadata": {},
   "outputs": [
    {
     "name": "stdout",
     "output_type": "stream",
     "text": [
      "     user_id  Attrition\n",
      "0        442        0.0\n",
      "1       1091        0.0\n",
      "2        981        0.0\n",
      "3        785        0.0\n",
      "4       1332        1.0\n",
      "..       ...        ...\n",
      "289     1439        0.0\n",
      "290      481        0.0\n",
      "291      124        0.0\n",
      "292      198        0.0\n",
      "293     1229        0.0\n",
      "\n",
      "[294 rows x 2 columns]\n"
     ]
    }
   ],
   "source": []
  },
  {
   "cell_type": "code",
   "execution_count": 16,
   "metadata": {},
   "outputs": [],
   "source": []
  },
  {
   "cell_type": "code",
   "execution_count": null,
   "metadata": {},
   "outputs": [],
   "source": []
  }
 ],
 "metadata": {
  "kernelspec": {
   "display_name": "Python 3",
   "language": "python",
   "name": "python3"
  },
  "language_info": {
   "codemirror_mode": {
    "name": "ipython",
    "version": 3
   },
   "file_extension": ".py",
   "mimetype": "text/x-python",
   "name": "python",
   "nbconvert_exporter": "python",
   "pygments_lexer": "ipython3",
   "version": "3.7.4"
  }
 },
 "nbformat": 4,
 "nbformat_minor": 2
}
