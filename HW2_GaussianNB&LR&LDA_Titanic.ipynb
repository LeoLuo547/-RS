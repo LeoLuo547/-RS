{
 "cells": [
  {
   "cell_type": "code",
   "execution_count": 27,
   "metadata": {},
   "outputs": [
    {
     "name": "stdout",
     "output_type": "stream",
     "text": [
      "查看数据信息：列名、非空个数、类型等\n",
      "<class 'pandas.core.frame.DataFrame'>\n",
      "RangeIndex: 891 entries, 0 to 890\n",
      "Data columns (total 12 columns):\n",
      "PassengerId    891 non-null int64\n",
      "Survived       891 non-null int64\n",
      "Pclass         891 non-null int64\n",
      "Name           891 non-null object\n",
      "Sex            891 non-null object\n",
      "Age            714 non-null float64\n",
      "SibSp          891 non-null int64\n",
      "Parch          891 non-null int64\n",
      "Ticket         891 non-null object\n",
      "Fare           891 non-null float64\n",
      "Cabin          204 non-null object\n",
      "Embarked       889 non-null object\n",
      "dtypes: float64(2), int64(5), object(5)\n",
      "memory usage: 83.7+ KB\n",
      "None\n",
      "------------------------------\n",
      "查看数据摘要\n",
      "       PassengerId    Survived      Pclass         Age       SibSp  \\\n",
      "count   891.000000  891.000000  891.000000  714.000000  891.000000   \n",
      "mean    446.000000    0.383838    2.308642   29.699118    0.523008   \n",
      "std     257.353842    0.486592    0.836071   14.526497    1.102743   \n",
      "min       1.000000    0.000000    1.000000    0.420000    0.000000   \n",
      "25%     223.500000    0.000000    2.000000   20.125000    0.000000   \n",
      "50%     446.000000    0.000000    3.000000   28.000000    0.000000   \n",
      "75%     668.500000    1.000000    3.000000   38.000000    1.000000   \n",
      "max     891.000000    1.000000    3.000000   80.000000    8.000000   \n",
      "\n",
      "            Parch        Fare  \n",
      "count  891.000000  891.000000  \n",
      "mean     0.381594   32.204208  \n",
      "std      0.806057   49.693429  \n",
      "min      0.000000    0.000000  \n",
      "25%      0.000000    7.910400  \n",
      "50%      0.000000   14.454200  \n",
      "75%      0.000000   31.000000  \n",
      "max      6.000000  512.329200  \n",
      "------------------------------\n",
      "查看离散数据分布\n",
      "                            Name   Sex Ticket    Cabin Embarked\n",
      "count                        891   891    891      204      889\n",
      "unique                       891     2    681      147        3\n",
      "top     Wick, Miss. Mary Natalie  male   1601  B96 B98        S\n",
      "freq                           1   577      7        4      644\n",
      "------------------------------\n",
      "查看前5条数据\n",
      "   PassengerId  Survived  Pclass  \\\n",
      "0            1         0       3   \n",
      "1            2         1       1   \n",
      "2            3         1       3   \n",
      "3            4         1       1   \n",
      "4            5         0       3   \n",
      "\n",
      "                                                Name     Sex   Age  SibSp  \\\n",
      "0                            Braund, Mr. Owen Harris    male  22.0      1   \n",
      "1  Cumings, Mrs. John Bradley (Florence Briggs Th...  female  38.0      1   \n",
      "2                             Heikkinen, Miss. Laina  female  26.0      0   \n",
      "3       Futrelle, Mrs. Jacques Heath (Lily May Peel)  female  35.0      1   \n",
      "4                           Allen, Mr. William Henry    male  35.0      0   \n",
      "\n",
      "   Parch            Ticket     Fare Cabin Embarked  \n",
      "0      0         A/5 21171   7.2500   NaN        S  \n",
      "1      0          PC 17599  71.2833   C85        C  \n",
      "2      0  STON/O2. 3101282   7.9250   NaN        S  \n",
      "3      0            113803  53.1000  C123        S  \n",
      "4      0            373450   8.0500   NaN        S  \n",
      "------------------------------\n",
      "查看后5条数据\n",
      "     PassengerId  Survived  Pclass                                      Name  \\\n",
      "886          887         0       2                     Montvila, Rev. Juozas   \n",
      "887          888         1       1              Graham, Miss. Margaret Edith   \n",
      "888          889         0       3  Johnston, Miss. Catherine Helen \"Carrie\"   \n",
      "889          890         1       1                     Behr, Mr. Karl Howell   \n",
      "890          891         0       3                       Dooley, Mr. Patrick   \n",
      "\n",
      "        Sex   Age  SibSp  Parch      Ticket   Fare Cabin Embarked  \n",
      "886    male  27.0      0      0      211536  13.00   NaN        S  \n",
      "887  female  19.0      0      0      112053  30.00   B42        S  \n",
      "888  female   NaN      1      2  W./C. 6607  23.45   NaN        S  \n",
      "889    male  26.0      0      0      111369  30.00  C148        C  \n",
      "890    male  32.0      0      0      370376   7.75   NaN        Q  \n",
      "S    644\n",
      "C    168\n",
      "Q     77\n",
      "Name: Embarked, dtype: int64\n",
      "特征值\n",
      "     Pclass     Sex        Age  SibSp  Parch     Fare Embarked\n",
      "0         3    male  22.000000      1      0   7.2500        S\n",
      "1         1  female  38.000000      1      0  71.2833        C\n",
      "2         3  female  26.000000      0      0   7.9250        S\n",
      "3         1  female  35.000000      1      0  53.1000        S\n",
      "4         3    male  35.000000      0      0   8.0500        S\n",
      "..      ...     ...        ...    ...    ...      ...      ...\n",
      "886       2    male  27.000000      0      0  13.0000        S\n",
      "887       1  female  19.000000      0      0  30.0000        S\n",
      "888       3  female  29.699118      1      2  23.4500        S\n",
      "889       1    male  26.000000      0      0  30.0000        C\n",
      "890       3    male  32.000000      0      0   7.7500        Q\n",
      "\n",
      "[891 rows x 7 columns]\n",
      "['Age', 'Embarked=C', 'Embarked=Q', 'Embarked=S', 'Fare', 'Parch', 'Pclass', 'Sex=female', 'Sex=male', 'SibSp']\n",
      "[38.      1.      0.      0.     71.2833  0.      1.      1.      0.\n",
      "  1.    ]\n"
     ]
    }
   ],
   "source": [
    "import numpy as np\n",
    "import pandas as pd\n",
    "from sklearn.tree import DecisionTreeClassifier\n",
    "from sklearn.feature_extraction import DictVectorizer\n",
    "from sklearn.model_selection import cross_val_score\n",
    "from sklearn import metrics\n",
    "from sklearn.metrics import accuracy_score\n",
    "from sklearn.feature_extraction import DictVectorizer\n",
    "from tpot import TPOTClassifier\n",
    "from sklearn.model_selection import train_test_split\n",
    "# 数据加载\n",
    "train_data = pd.read_csv('./train.csv')\n",
    "test_data = pd.read_csv('./test.csv')\n",
    "# 数据探索\n",
    "# 查看train_data信息\n",
    "#pd.set_option('display.max_columns', None) #显示所有列\n",
    "print('查看数据信息：列名、非空个数、类型等')\n",
    "print(train_data.info())\n",
    "print('-'*30)\n",
    "print('查看数据摘要')\n",
    "print(train_data.describe())\n",
    "print('-'*30)\n",
    "print('查看离散数据分布')\n",
    "print(train_data.describe(include=['O']))\n",
    "print('-'*30)\n",
    "print('查看前5条数据')\n",
    "print(train_data.head())\n",
    "print('-'*30)\n",
    "print('查看后5条数据')\n",
    "print(train_data.tail())\n",
    "# 使用平均年龄来填充年龄中的nan值\n",
    "### inplace=True: 直接修改原对象\n",
    "train_data['Age'].fillna(train_data['Age'].mean(), inplace=True)  \n",
    "test_data['Age'].fillna(test_data['Age'].mean(),inplace=True)\n",
    "# 使用票价的均值填充票价中的nan值\n",
    "train_data['Fare'].fillna(train_data['Fare'].mean(), inplace=True)\n",
    "test_data['Fare'].fillna(test_data['Fare'].mean(),inplace=True)\n",
    "\n",
    "print(train_data['Embarked'].value_counts())\n",
    "# 使用登录最多的港口来填充登录港口的nan值\n",
    "train_data['Embarked'].fillna('S', inplace=True)\n",
    "test_data['Embarked'].fillna('S',inplace=True)\n",
    "# 特征选择\n",
    "features = ['Pclass', 'Sex', 'Age', 'SibSp', 'Parch', 'Fare', 'Embarked']\n",
    "train_features = train_data[features] ####读取多行\n",
    "train_labels = train_data['Survived']\n",
    "test_features = test_data[features]\n",
    "print('特征值')\n",
    "print(train_features)\n",
    "dvec=DictVectorizer(sparse=False) ###sparse=False意思是不产生稀疏矩阵\n",
    "## 转化为0，1向量\n",
    "train_features=dvec.fit_transform(train_features.to_dict(orient='record'))\n",
    "test_features=dvec.fit_transform(test_features.to_dict(orient='record'))\n",
    "print(dvec.feature_names_)\n",
    "print(train_features[1])\n"
   ]
  },
  {
   "cell_type": "code",
   "execution_count": 28,
   "metadata": {},
   "outputs": [],
   "source": [
    "x_train, x_test, y_train, y_test = train_test_split(train_features, train_labels, train_size=0.75, test_size=0.25)"
   ]
  },
  {
   "cell_type": "code",
   "execution_count": 29,
   "metadata": {},
   "outputs": [
    {
     "name": "stdout",
     "output_type": "stream",
     "text": [
      "朴素贝叶斯准确率: 0.7758\n"
     ]
    }
   ],
   "source": [
    "# 高斯朴素贝叶斯 GaussianNB/MultinomialNB/BernoulliNB\n",
    "from sklearn.naive_bayes import GaussianNB, MultinomialNB, BernoulliNB \n",
    "# 创建贝叶斯分类器\n",
    "model = GaussianNB()\n",
    "model.fit(x_train,y_train)\n",
    "y_predict=model.predict(x_test)\n",
    "print('朴素贝叶斯准确率: %0.4lf' %accuracy_score(y_predict,y_test))"
   ]
  },
  {
   "cell_type": "code",
   "execution_count": 31,
   "metadata": {},
   "outputs": [
    {
     "name": "stdout",
     "output_type": "stream",
     "text": [
      "     PassengerId     Sex  Survived\n",
      "0            892    male         0\n",
      "1            893  female         1\n",
      "2            894    male         0\n",
      "3            895    male         0\n",
      "4            896  female         1\n",
      "..           ...     ...       ...\n",
      "413         1305    male         0\n",
      "414         1306  female         1\n",
      "415         1307    male         0\n",
      "416         1308    male         0\n",
      "417         1309    male         0\n",
      "\n",
      "[418 rows x 3 columns]\n"
     ]
    }
   ],
   "source": [
    "Result=model.predict(test_features)\n",
    "final = pd.DataFrame({'PassengerId': test_data['PassengerId'],'Sex': test_data['Sex'], 'Survived': Result})\n",
    "print(final)"
   ]
  },
  {
   "cell_type": "code",
   "execution_count": 34,
   "metadata": {},
   "outputs": [
    {
     "name": "stdout",
     "output_type": "stream",
     "text": [
      "LR准确率: 0.7982\n"
     ]
    }
   ],
   "source": [
    "# 创建LR分类器\n",
    "x1_train, x1_test, y1_train, y1_test = train_test_split(train_features, train_labels, train_size=0.75, test_size=0.25)\n",
    "from sklearn.linear_model import LogisticRegression #逻辑回归\n",
    "lr = LogisticRegression(solver='liblinear', multi_class='auto') #数据集比较小，使用liblinear，数据集大使用 sag或者saga\n",
    "lr.fit(x1_train,y1_train)\n",
    "y1_predict=lr.predict(x1_test)\n",
    "print('LR准确率: %0.4lf' % accuracy_score(y1_predict,y1_test))\n"
   ]
  },
  {
   "cell_type": "code",
   "execution_count": 35,
   "metadata": {},
   "outputs": [
    {
     "name": "stdout",
     "output_type": "stream",
     "text": [
      "     PassengerId     Sex  Survived\n",
      "0            892    male         0\n",
      "1            893  female         1\n",
      "2            894    male         0\n",
      "3            895    male         0\n",
      "4            896  female         1\n",
      "..           ...     ...       ...\n",
      "413         1305    male         0\n",
      "414         1306  female         1\n",
      "415         1307    male         0\n",
      "416         1308    male         0\n",
      "417         1309    male         0\n",
      "\n",
      "[418 rows x 3 columns]\n"
     ]
    }
   ],
   "source": [
    "Result1=model.predict(test_features)\n",
    "final_1 = pd.DataFrame({'PassengerId': test_data['PassengerId'],'Sex': test_data['Sex'], 'Survived': Result1})\n",
    "print(final_1)"
   ]
  },
  {
   "cell_type": "code",
   "execution_count": 50,
   "metadata": {},
   "outputs": [
    {
     "name": "stdout",
     "output_type": "stream",
     "text": [
      "LDA准确率: 0.8251\n",
      "     PassengerId     Sex  Survived\n",
      "0            892    male         0\n",
      "1            893  female         1\n",
      "2            894    male         0\n",
      "3            895    male         0\n",
      "4            896  female         1\n",
      "..           ...     ...       ...\n",
      "413         1305    male         0\n",
      "414         1306  female         1\n",
      "415         1307    male         0\n",
      "416         1308    male         0\n",
      "417         1309    male         0\n",
      "\n",
      "[418 rows x 3 columns]\n"
     ]
    },
    {
     "name": "stderr",
     "output_type": "stream",
     "text": [
      "/opt/anaconda3/lib/python3.7/site-packages/sklearn/discriminant_analysis.py:463: ChangedBehaviorWarning: n_components cannot be larger than min(n_features, n_classes - 1). Using min(n_features, n_classes - 1) = min(10, 2 - 1) = 1 components.\n",
      "  ChangedBehaviorWarning)\n",
      "/opt/anaconda3/lib/python3.7/site-packages/sklearn/discriminant_analysis.py:469: FutureWarning: In version 0.23, setting n_components > min(n_features, n_classes - 1) will raise a ValueError. You should set n_components to None (default), or a value smaller or equal to min(n_features, n_classes - 1).\n",
      "  warnings.warn(future_msg, FutureWarning)\n"
     ]
    }
   ],
   "source": [
    "# 创建LDA分类器\n",
    "x2_train, x2_test, y2_train, y2_test = train_test_split(train_features, train_labels, train_size=0.75, test_size=0.25)\n",
    "from sklearn.discriminant_analysis import LinearDiscriminantAnalysis \n",
    "model2 = LinearDiscriminantAnalysis(n_components=2)\n",
    "model2.fit(x2_train,y2_train)\n",
    "y2_predict=model.predict(x2_test)\n",
    "print('LDA准确率: %0.4lf' %accuracy_score(y2_predict,y2_test))\n",
    "Result2=model.predict(test_features)\n",
    "final_2 = pd.DataFrame({'PassengerId': test_data['PassengerId'],'Sex': test_data['Sex'], 'Survived': Result2})\n",
    "print(final_2)"
   ]
  },
  {
   "cell_type": "code",
   "execution_count": null,
   "metadata": {},
   "outputs": [],
   "source": []
  },
  {
   "cell_type": "code",
   "execution_count": null,
   "metadata": {},
   "outputs": [],
   "source": []
  },
  {
   "cell_type": "code",
   "execution_count": null,
   "metadata": {},
   "outputs": [],
   "source": []
  }
 ],
 "metadata": {
  "kernelspec": {
   "display_name": "Python 3",
   "language": "python",
   "name": "python3"
  },
  "language_info": {
   "codemirror_mode": {
    "name": "ipython",
    "version": 3
   },
   "file_extension": ".py",
   "mimetype": "text/x-python",
   "name": "python",
   "nbconvert_exporter": "python",
   "pygments_lexer": "ipython3",
   "version": "3.7.4"
  }
 },
 "nbformat": 4,
 "nbformat_minor": 2
}
